{
 "cells": [
  {
   "cell_type": "code",
   "execution_count": 1,
   "id": "7ffaf1e1-73b8-428d-a603-c0f6289edac6",
   "metadata": {},
   "outputs": [],
   "source": [
    "import os, shlex\n",
    "from subprocess import check_output\n",
    "repo_rootdir = check_output(shlex.split(\"git rev-parse --show-toplevel\")).strip().decode('ascii')\n",
    "os.chdir(repo_rootdir)\n",
    "\n",
    "from random import shuffle\n",
    "import numpy as np\n",
    "import ipywidgets as widgets\n",
    "import yaml\n",
    "from copy import deepcopy\n",
    "import json\n",
    "import re\n",
    "import itertools\n",
    "import numpy as np\n",
    "import scipy\n",
    "\n",
    "from scipy.spatial import procrustes as procrustes\n",
    "\n",
    "import glob, os, json\n",
    "import pandas as pd\n",
    "\n",
    "#from VTKHelpers.VTKMesh import VTKObject as Mesh\n",
    "#from cardiac_mesh import CardiacMesh\n",
    "from sklearn.decomposition import PCA, IncrementalPCA as IPCA\n",
    "import pickle as pkl\n",
    "#from config.config_parser import read_default_config"
   ]
  },
  {
   "cell_type": "code",
   "execution_count": 2,
   "id": "053bd24b-ad7d-4ab8-8d8f-981cbe652d66",
   "metadata": {},
   "outputs": [],
   "source": [
    "from config.cli_args import CLI_args, overwrite_config_items\n",
    "from config.load_config import load_yaml_config, to_dict"
   ]
  },
  {
   "cell_type": "code",
   "execution_count": 3,
   "id": "34769712-d2de-499e-bba1-4429027f5e83",
   "metadata": {},
   "outputs": [],
   "source": [
    "ref_config = load_yaml_config(\"config_files/config.yaml\")"
   ]
  },
  {
   "cell_type": "code",
   "execution_count": 4,
   "id": "4a45872f-d8ba-4a34-b44a-0b35d9af0c77",
   "metadata": {},
   "outputs": [],
   "source": [
    "meshes = pkl.load(open(ref_config.dataset.filename, \"rb\"))"
   ]
  },
  {
   "cell_type": "code",
   "execution_count": 5,
   "id": "36019637-a91a-4916-8cf4-b6e73d99c09d",
   "metadata": {},
   "outputs": [],
   "source": [
    "def load_procrustes_transforms(filename):    \n",
    "    return pkl.load(open(filename, \"rb\"))   "
   ]
  },
  {
   "cell_type": "code",
   "execution_count": 6,
   "id": "8e772690-de83-4d58-8f9b-e31136e30dd6",
   "metadata": {},
   "outputs": [],
   "source": [
    "procrustes_transforms = load_procrustes_transforms(\"data/cardio/procrustes_transforms_35k.pkl\")"
   ]
  },
  {
   "cell_type": "code",
   "execution_count": 7,
   "id": "e9b108f7-0745-447b-94e6-ab24c7424f27",
   "metadata": {},
   "outputs": [],
   "source": [
    "from data.DataModules import CardiacMeshPopulationDataset"
   ]
  },
  {
   "cell_type": "code",
   "execution_count": 8,
   "id": "0b084b5e-4e1f-49fe-b4d5-c5f38cda2723",
   "metadata": {},
   "outputs": [],
   "source": [
    "meshes_dataset = CardiacMeshPopulationDataset(meshes, procrustes_transforms)"
   ]
  },
  {
   "cell_type": "code",
   "execution_count": 9,
   "id": "79f96111-7359-42f5-833d-446c02dfc920",
   "metadata": {},
   "outputs": [],
   "source": [
    "N = 5000"
   ]
  },
  {
   "cell_type": "code",
   "execution_count": 11,
   "id": "3dd8b141-f4da-486f-8a19-36f1d52d3c96",
   "metadata": {},
   "outputs": [],
   "source": [
    "shuffled_ids = [x for x in range(len(meshes_dataset))]\n",
    "shuffle(shuffled_ids)"
   ]
  },
  {
   "cell_type": "code",
   "execution_count": 12,
   "id": "6121e3fb-3145-408b-a143-06a80b9ede2c",
   "metadata": {},
   "outputs": [
    {
     "data": {
      "text/plain": [
       "(5000, 15660)"
      ]
     },
     "execution_count": 12,
     "metadata": {},
     "output_type": "execute_result"
    }
   ],
   "source": [
    "ids = [meshes_dataset[i][\"id\"] for i, _ in enumerate(meshes_dataset)]\n",
    "meshes_lst = [meshes_dataset[id][\"s\"].numpy() for id in ids]\n",
    "meshes_np = np.array(meshes_lst)\n",
    "flattened_meshes = meshes_np.reshape(len(meshes_dataset),-1)\n",
    "output_dir = \"output/PCA__LV__%s_samples\" % N\n",
    "flattened_meshes[shuffled_ids[:N],:].shape"
   ]
  },
  {
   "cell_type": "markdown",
   "id": "664198c3-d4c0-4fa0-ad86-57d82338787a",
   "metadata": {},
   "source": [
    "Center meshes around mean shape:"
   ]
  },
  {
   "cell_type": "code",
   "execution_count": 18,
   "id": "e99b3094-eb63-4f19-be0c-04477a3e1c41",
   "metadata": {},
   "outputs": [],
   "source": [
    "flattened_meshes -= flattened_meshes.mean(0)"
   ]
  },
  {
   "cell_type": "code",
   "execution_count": 19,
   "id": "00d57e61-38a5-46da-822b-eb0c08192e8c",
   "metadata": {},
   "outputs": [
    {
     "name": "stdout",
     "output_type": "stream",
     "text": [
      "1\n",
      "2\n",
      "3\n",
      "4\n",
      "5\n",
      "6\n",
      "7\n",
      "8\n",
      "9\n",
      "10\n",
      "11\n",
      "12\n",
      "13\n",
      "14\n",
      "15\n",
      "16\n"
     ]
    }
   ],
   "source": [
    "perf_dfs = []\n",
    "n_comps = 16\n",
    "\n",
    "# meshes_lst, ids_lst = flattened_partition(cardiac_data, config[\"nTraining\"])\n",
    "# print(shuffled_ids)\n",
    "\n",
    "for n in range(1, n_comps+1):\n",
    "  \n",
    "  print(n)\n",
    "  \n",
    "  #TODO: This doesn't have to be done again for each n, but I need to figure out how to do it.\n",
    "  training_meshes = flattened_meshes[shuffled_ids[:N],:]\n",
    "  pp = PCA(n).fit(training_meshes)    \n",
    "    \n",
    "  meshes_reduced = pp.transform(flattened_meshes)\n",
    "\n",
    "  meshes_reconstructed = pp.inverse_transform(meshes_reduced)\n",
    "  mse = ((flattened_meshes - meshes_reconstructed)**2).mean(axis=1)\n",
    "  \n",
    "  mse_shuffled = ((flattened_meshes - meshes_reconstructed[shuffled_ids,:])**2).mean(axis=1)\n",
    "    \n",
    "  perf_df = pd.DataFrame({\n",
    "    \"model_id\": [\"PCA__LV__{}_comps__{}_samples\".format(str(n_comps), str(N))] * len(meshes_dataset),\n",
    "    \"subject_id\": shuffled_ids,\n",
    "    \"subset\": [\"training\"] * N + [\"test\"] * (len(meshes_dataset) - N),\n",
    "    \"mse\": mse,\n",
    "    \"mse_shuffled\": mse_shuffled,\n",
    "    \"n\": [n] * len(meshes_dataset),      \n",
    "  })\n",
    "  \n",
    "  perf_df.index = shuffled_ids\n",
    "  perf_dfs.append(perf_df)\n",
    "        "
   ]
  },
  {
   "cell_type": "code",
   "execution_count": 20,
   "id": "92e16492-f7d1-4d47-a945-d6a727750d75",
   "metadata": {},
   "outputs": [],
   "source": [
    "pd.concat(perf_dfs).to_csv(\"PCA__LV__16_comps__5000_samples__performance.csv\", header=True, index=False)"
   ]
  },
  {
   "cell_type": "code",
   "execution_count": 21,
   "id": "d7d209dd-b099-4cae-941f-921c56367b23",
   "metadata": {},
   "outputs": [],
   "source": [
    "z_df = pd.DataFrame(meshes_reduced)\n",
    "z_df.columns = [\"z\" + str(z).zfill(3) for z in z_df.columns]\n",
    "z_df[\"ID\"] = list(np.array(ids)[shuffled_ids])\n",
    "z_df.to_csv(\"PCA__LV__16_comps__5000_samples__latent_space.csv\", header=True, index=False)"
   ]
  },
  {
   "cell_type": "code",
   "execution_count": null,
   "id": "b48e3f1b-a499-4aab-a54c-665c60c540a6",
   "metadata": {},
   "outputs": [],
   "source": []
  }
 ],
 "metadata": {
  "kernelspec": {
   "display_name": "cardio",
   "language": "python",
   "name": "cardio"
  },
  "language_info": {
   "codemirror_mode": {
    "name": "ipython",
    "version": 3
   },
   "file_extension": ".py",
   "mimetype": "text/x-python",
   "name": "python",
   "nbconvert_exporter": "python",
   "pygments_lexer": "ipython3",
   "version": "3.9.12"
  }
 },
 "nbformat": 4,
 "nbformat_minor": 5
}
