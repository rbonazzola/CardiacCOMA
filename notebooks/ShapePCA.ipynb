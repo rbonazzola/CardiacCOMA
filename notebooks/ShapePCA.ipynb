{
 "cells": [
  {
   "cell_type": "code",
   "execution_count": 1,
   "id": "7ffaf1e1-73b8-428d-a603-c0f6289edac6",
   "metadata": {},
   "outputs": [],
   "source": [
    "import os, shlex\n",
    "from subprocess import check_output\n",
    "repo_rootdir = check_output(shlex.split(\"git rev-parse --show-toplevel\")).strip().decode('ascii')\n",
    "os.chdir(repo_rootdir)\n",
    "\n",
    "from random import shuffle\n",
    "import numpy as np\n",
    "import ipywidgets as widgets\n",
    "import yaml\n",
    "from copy import deepcopy\n",
    "import json\n",
    "import re\n",
    "import itertools\n",
    "import numpy as np\n",
    "import scipy\n",
    "\n",
    "from scipy.spatial import procrustes as procrustes\n",
    "\n",
    "import glob, os, json\n",
    "import pandas as pd\n",
    "\n",
    "#from VTKHelpers.VTKMesh import VTKObject as Mesh\n",
    "#from cardiac_mesh import CardiacMesh\n",
    "from sklearn.decomposition import PCA, IncrementalPCA as IPCA\n",
    "import pickle as pkl\n",
    "#from config.config_parser import read_default_config"
   ]
  },
  {
   "cell_type": "code",
   "execution_count": 2,
   "id": "8757e254-d256-41e6-b601-5dbdb18ce26b",
   "metadata": {},
   "outputs": [],
   "source": [
    "from data.DataModules import CardiacMeshPopulationDataset\n",
    "from config.cli_args import CLI_args, overwrite_config_items\n",
    "from config.load_config import load_yaml_config, to_dict"
   ]
  },
  {
   "cell_type": "code",
   "execution_count": 3,
   "id": "34769712-d2de-499e-bba1-4429027f5e83",
   "metadata": {},
   "outputs": [],
   "source": [
    "ref_config = load_yaml_config(\"config_files/config.yaml\")"
   ]
  },
  {
   "cell_type": "code",
   "execution_count": 4,
   "id": "1deddcfc-1bec-4c02-a3be-e0382bb3329a",
   "metadata": {},
   "outputs": [],
   "source": [
    "MESH_PKL = \"/home/user/01_repos/CardiacCOMA/data/LVED_all_Rodrigos_segmentation_60728_subjects.pkl\"\n",
    "meshes = pkl.load(open(MESH_PKL, \"rb\"))"
   ]
  },
  {
   "cell_type": "code",
   "execution_count": 5,
   "id": "f135fbbe-0a5b-4bb2-92d8-05fa9db988a2",
   "metadata": {},
   "outputs": [],
   "source": [
    "CARDIAC_COMA_REPO = \"/home/user/01_repos/CardiacCOMA/\""
   ]
  },
  {
   "cell_type": "code",
   "execution_count": 6,
   "id": "ce8bae94-fd33-4311-ab5b-2c4da1200336",
   "metadata": {},
   "outputs": [],
   "source": [
    "PROCRUSTES_REPLICATION_FILE = f\"{CARDIAC_COMA_REPO}/data/procrustes_transforms_LVED_all_Rodrigos_segmentation_60728_subjects.pkl\"\n",
    "procrustes_transforms = pkl.load(open(PROCRUSTES_REPLICATION_FILE, \"rb\")) "
   ]
  },
  {
   "cell_type": "code",
   "execution_count": 7,
   "id": "0b084b5e-4e1f-49fe-b4d5-c5f38cda2723",
   "metadata": {},
   "outputs": [
    {
     "name": "stderr",
     "output_type": "stream",
     "text": [
      "100%|███████████████████████████████████████████████████████████████████████████████████████████████████████████████████████████████████████████████████████████████████████████████████████████████████████████████████████████████████████| 60728/60728 [01:16<00:00, 789.52it/s]\n"
     ]
    }
   ],
   "source": [
    "meshes_dataset = CardiacMeshPopulationDataset(meshes, procrustes_transforms)"
   ]
  },
  {
   "cell_type": "code",
   "execution_count": 8,
   "id": "79f96111-7359-42f5-833d-446c02dfc920",
   "metadata": {},
   "outputs": [],
   "source": [
    "N = 5000"
   ]
  },
  {
   "cell_type": "code",
   "execution_count": 9,
   "id": "3dd8b141-f4da-486f-8a19-36f1d52d3c96",
   "metadata": {},
   "outputs": [],
   "source": [
    "shuffled_ids = [x for x in range(len(meshes_dataset))]\n",
    "shuffle(shuffled_ids)"
   ]
  },
  {
   "cell_type": "code",
   "execution_count": 10,
   "id": "6121e3fb-3145-408b-a143-06a80b9ede2c",
   "metadata": {},
   "outputs": [
    {
     "data": {
      "text/plain": [
       "(5000, 15660)"
      ]
     },
     "execution_count": 10,
     "metadata": {},
     "output_type": "execute_result"
    }
   ],
   "source": [
    "ids = [meshes_dataset[i][\"id\"] for i, _ in enumerate(meshes_dataset)]\n",
    "meshes_lst = [meshes_dataset[id][\"s\"].numpy() for id in ids]\n",
    "meshes_np = np.array(meshes_lst)\n",
    "flattened_meshes = meshes_np.reshape(len(meshes_dataset),-1)\n",
    "output_dir = \"output/PCA__LV__%s_samples\" % N\n",
    "flattened_meshes[shuffled_ids[:N],:].shape"
   ]
  },
  {
   "cell_type": "markdown",
   "id": "664198c3-d4c0-4fa0-ad86-57d82338787a",
   "metadata": {},
   "source": [
    "Center meshes around mean shape:"
   ]
  },
  {
   "cell_type": "code",
   "execution_count": 11,
   "id": "e99b3094-eb63-4f19-be0c-04477a3e1c41",
   "metadata": {},
   "outputs": [],
   "source": [
    "# flattened_meshes -= flattened_meshes.mean(0)"
   ]
  },
  {
   "cell_type": "code",
   "execution_count": 12,
   "id": "00d57e61-38a5-46da-822b-eb0c08192e8c",
   "metadata": {},
   "outputs": [
    {
     "name": "stdout",
     "output_type": "stream",
     "text": [
      "16\n"
     ]
    }
   ],
   "source": [
    "perf_dfs = []\n",
    "n_comps = 16\n",
    "\n",
    "# meshes_lst, ids_lst = flattened_partition(cardiac_data, config[\"nTraining\"])\n",
    "# print(shuffled_ids)\n",
    "\n",
    "# for n in range(1, n_comps+1):\n",
    "for n in [16]:\n",
    "  \n",
    "    print(n)\n",
    "    \n",
    "    #TODO: This doesn't have to be done again for each n, but I need to figure out how to do it.\n",
    "    training_meshes = flattened_meshes[shuffled_ids[:N],:]\n",
    "    pp = PCA(n).fit(training_meshes)    \n",
    "      \n",
    "    meshes_reduced = pp.transform(flattened_meshes)\n",
    "  \n",
    "    meshes_reconstructed = pp.inverse_transform(meshes_reduced)\n",
    "    mse = ((flattened_meshes - meshes_reconstructed)**2).mean(axis=1)\n",
    "    \n",
    "    mse_shuffled = ((flattened_meshes - meshes_reconstructed[shuffled_ids,:])**2).mean(axis=1)\n",
    "      \n",
    "    perf_df = pd.DataFrame({\n",
    "      \"model_id\": [\"PCA__LV__{}_comps__{}_samples\".format(str(n_comps), str(N))] * len(meshes_dataset),\n",
    "      \"subject_id\": shuffled_ids,\n",
    "      \"subset\": [\"training\"] * N + [\"test\"] * (len(meshes_dataset) - N),\n",
    "      \"mse\": mse,\n",
    "      \"mse_shuffled\": mse_shuffled,\n",
    "      \"n\": [n] * len(meshes_dataset),      \n",
    "    })\n",
    "    \n",
    "    perf_df.index = shuffled_ids\n",
    "    perf_dfs.append(perf_df)\n",
    "          "
   ]
  },
  {
   "cell_type": "code",
   "execution_count": 13,
   "id": "92e16492-f7d1-4d47-a945-d6a727750d75",
   "metadata": {},
   "outputs": [],
   "source": [
    "pd.concat(perf_dfs).to_csv(\"PCA__LV__16_comps__5000_samples__performance.csv\", header=True, index=False)"
   ]
  },
  {
   "cell_type": "code",
   "execution_count": 17,
   "id": "b1a36e1d-adea-41ff-be38-daa26142c8d7",
   "metadata": {},
   "outputs": [
    {
     "data": {
      "text/plain": [
       "array([[ 24.642893  ,   4.01576   ,  27.396309  , ...,   9.306356  ,\n",
       "         -2.800227  , -52.41445   ],\n",
       "       [ 26.53488   ,   3.5433652 ,  29.448126  , ...,   8.243105  ,\n",
       "         -1.5773598 , -55.81192   ],\n",
       "       [ 30.64968   ,   4.547135  ,  33.65808   , ...,  11.235202  ,\n",
       "          0.24474011, -61.79597   ],\n",
       "       ...,\n",
       "       [ 31.036776  ,   5.254566  ,  34.53359   , ...,   8.929912  ,\n",
       "         -1.4252867 , -56.966278  ],\n",
       "       [ 29.542198  ,   5.0099645 ,  31.39196   , ...,  10.54889   ,\n",
       "         -3.3885365 , -58.265244  ],\n",
       "       [ 27.969158  ,   3.9376342 ,  30.323282  , ...,   9.623464  ,\n",
       "         -2.5451443 , -56.829796  ]], dtype=float32)"
      ]
     },
     "execution_count": 17,
     "metadata": {},
     "output_type": "execute_result"
    }
   ],
   "source": [
    "flattened_meshes"
   ]
  },
  {
   "cell_type": "code",
   "execution_count": 16,
   "id": "e64d04a3-5e45-4cc1-afac-693212d0f192",
   "metadata": {},
   "outputs": [
    {
     "data": {
      "text/plain": [
       "array([[ 164.029     ,  -31.030481  ,  -74.24229   , ...,   -6.062747  ,\n",
       "          -2.4639282 ,    0.90578544],\n",
       "       [  44.65998   ,    2.964386  , -119.57689   , ...,   -4.0863748 ,\n",
       "           4.7335596 ,   -1.3913312 ],\n",
       "       [-292.851     ,  -52.095676  ,  -17.993368  , ...,    3.103015  ,\n",
       "          -0.92941463,   -1.4097089 ],\n",
       "       ...,\n",
       "       [-154.68541   ,   33.485813  ,   -4.7383013 , ...,   -7.155405  ,\n",
       "          21.781952  ,    0.7999135 ],\n",
       "       [-220.9974    ,  -15.743806  ,   48.544895  , ...,   -3.6189575 ,\n",
       "           2.4747715 ,    7.8488345 ],\n",
       "       [-110.51882   ,  -40.622166  ,   10.440153  , ...,  -18.149647  ,\n",
       "           3.2030146 ,    5.80313   ]], dtype=float32)"
      ]
     },
     "execution_count": 16,
     "metadata": {},
     "output_type": "execute_result"
    }
   ],
   "source": [
    "meshes_reduced"
   ]
  },
  {
   "cell_type": "code",
   "execution_count": 19,
   "id": "d7d209dd-b099-4cae-941f-921c56367b23",
   "metadata": {},
   "outputs": [],
   "source": [
    "z_df = pd.DataFrame(meshes_reduced)\n",
    "z_df.columns = [\"z\" + str(z).zfill(3) for z in z_df.columns]\n",
    "z_df[\"ID\"] = list(np.array(ids))# [shuffled_ids])\n",
    "z_df.to_csv(\"PCA__LV__16_comps__5000_samples__latent_space.csv\", header=True, index=False)"
   ]
  }
 ],
 "metadata": {
  "kernelspec": {
   "display_name": "Python 3 (ipykernel)",
   "language": "python",
   "name": "python3"
  },
  "language_info": {
   "codemirror_mode": {
    "name": "ipython",
    "version": 3
   },
   "file_extension": ".py",
   "mimetype": "text/x-python",
   "name": "python",
   "nbconvert_exporter": "python",
   "pygments_lexer": "ipython3",
   "version": "3.9.16"
  }
 },
 "nbformat": 4,
 "nbformat_minor": 5
}
