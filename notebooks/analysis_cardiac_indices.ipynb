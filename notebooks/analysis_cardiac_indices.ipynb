{
 "cells": [
  {
   "cell_type": "code",
   "execution_count": 1,
   "id": "c934ebbd",
   "metadata": {},
   "outputs": [],
   "source": [
    "import os, sys\n",
    "HOME = os.environ[\"HOME\"]\n",
    "CARDIAC_COMA_REPO = \"{HOME}/01_repos/CardiacCOMA/\""
   ]
  },
  {
   "cell_type": "code",
   "execution_count": 2,
   "id": "fc82347a",
   "metadata": {},
   "outputs": [
    {
     "ename": "FileNotFoundError",
     "evalue": "[Errno 2] No such file or directory: '{HOME}/01_repos/CardiacCOMA/'",
     "output_type": "error",
     "traceback": [
      "\u001b[0;31m---------------------------------------------------------------------------\u001b[0m",
      "\u001b[0;31mFileNotFoundError\u001b[0m                         Traceback (most recent call last)",
      "Input \u001b[0;32mIn [2]\u001b[0m, in \u001b[0;36m<cell line: 6>\u001b[0;34m()\u001b[0m\n\u001b[1;32m      3\u001b[0m \u001b[38;5;28;01mimport\u001b[39;00m \u001b[38;5;21;01mtorch\u001b[39;00m\n\u001b[1;32m      4\u001b[0m \u001b[38;5;28;01mimport\u001b[39;00m \u001b[38;5;21;01mtorch\u001b[39;00m\u001b[38;5;21;01m.\u001b[39;00m\u001b[38;5;21;01mnn\u001b[39;00m\u001b[38;5;21;01m.\u001b[39;00m\u001b[38;5;21;01mfunctional\u001b[39;00m \u001b[38;5;28;01mas\u001b[39;00m \u001b[38;5;21;01mF\u001b[39;00m\n\u001b[0;32m----> 6\u001b[0m \u001b[43mos\u001b[49m\u001b[38;5;241;43m.\u001b[39;49m\u001b[43mchdir\u001b[49m\u001b[43m(\u001b[49m\u001b[43mCARDIAC_COMA_REPO\u001b[49m\u001b[43m)\u001b[49m\n\u001b[1;32m      7\u001b[0m \u001b[38;5;28;01mfrom\u001b[39;00m \u001b[38;5;21;01mconfig\u001b[39;00m\u001b[38;5;21;01m.\u001b[39;00m\u001b[38;5;21;01mload_config\u001b[39;00m \u001b[38;5;28;01mimport\u001b[39;00m load_yaml_config, to_dict\n\u001b[1;32m      9\u001b[0m \u001b[38;5;28;01mimport\u001b[39;00m \u001b[38;5;21;01mipywidgets\u001b[39;00m \u001b[38;5;28;01mas\u001b[39;00m \u001b[38;5;21;01mwidgets\u001b[39;00m\n",
      "\u001b[0;31mFileNotFoundError\u001b[0m: [Errno 2] No such file or directory: '{HOME}/01_repos/CardiacCOMA/'"
     ]
    }
   ],
   "source": [
    "import mlflow\n",
    "\n",
    "import torch\n",
    "import torch.nn.functional as F\n",
    "\n",
    "os.chdir(CARDIAC_COMA_REPO)\n",
    "from config.load_config import load_yaml_config, to_dict\n",
    "\n",
    "import ipywidgets as widgets\n",
    "from ipywidgets import interact\n",
    "from IPython.display import Image\n",
    "from mlflow.tracking import MlflowClient\n",
    "\n",
    "import pickle as pkl\n",
    "import pytorch_lightning as pl\n",
    "\n",
    "from argparse import Namespace\n",
    "import matplotlib.pyplot as plt\n",
    "\n",
    "#import surgeon_pytorch\n",
    "#from surgeon_pytorch import Inspect, get_layers\n",
    "\n",
    "import numpy as np\n",
    "import pandas as pd\n",
    "from IPython import embed\n",
    "sys.path.insert(0, '..')\n",
    "\n",
    "import model.Model3D\n",
    "from utils.helpers import get_coma_args, get_lightning_module, get_datamodule\n",
    "from copy import deepcopy\n",
    "from pprint import pprint\n",
    "\n",
    "from copy import deepcopy\n",
    "from typing import List"
   ]
  },
  {
   "cell_type": "code",
   "execution_count": null,
   "id": "8eccb809",
   "metadata": {},
   "outputs": [],
   "source": [
    "from mlflow_helpers import \\\n",
    "    list_artifacts,\\\n",
    "    get_significant_loci,\\\n",
    "    get_metrics_cols, \\\n",
    "    get_params_cols, \\\n",
    "    get_runs_df, \\\n",
    "    get_good_runs,\\\n",
    "    summarize_loci_across_runs,\\\n",
    "    get_model_pretrained_weights"
   ]
  },
  {
   "cell_type": "code",
   "execution_count": null,
   "id": "a6dcb17a",
   "metadata": {},
   "outputs": [],
   "source": [
    "TRACKING_URI = f\"file://{CARDIAC_COMA_REPO}/mlruns\"\n",
    "mlflow.set_tracking_uri(TRACKING_URI)"
   ]
  },
  {
   "cell_type": "code",
   "execution_count": null,
   "id": "24df7843",
   "metadata": {},
   "outputs": [],
   "source": [
    "client = MlflowClient()"
   ]
  },
  {
   "cell_type": "markdown",
   "id": "7c6c0004",
   "metadata": {},
   "source": [
    "### Retrieve cardiac indices"
   ]
  },
  {
   "cell_type": "code",
   "execution_count": null,
   "id": "c94b511a",
   "metadata": {},
   "outputs": [],
   "source": [
    "timeframe = \"1\".zfill(3)\n",
    "datafolder = \"data/cardio/cardiac_indices\""
   ]
  },
  {
   "cell_type": "code",
   "execution_count": null,
   "id": "57246829",
   "metadata": {},
   "outputs": [],
   "source": [
    "df = pd.concat([pd.read_csv(f\"{datafolder}/G{i}/LVRV_time{timeframe}.csv\", index_col=\"case_id\") for i in range(1,5)])"
   ]
  },
  {
   "cell_type": "code",
   "execution_count": null,
   "id": "9ca4c9d8",
   "metadata": {},
   "outputs": [],
   "source": [
    "df"
   ]
  },
  {
   "cell_type": "markdown",
   "id": "f17cda10",
   "metadata": {},
   "source": [
    "### Compute sphericity"
   ]
  },
  {
   "cell_type": "code",
   "execution_count": null,
   "id": "8f329299",
   "metadata": {},
   "outputs": [],
   "source": [
    "import scipy\n",
    "import math\n",
    "import pandas as pd\n",
    "import os\n",
    "import shlex\n",
    "from subprocess import check_output\n",
    "\n",
    "from scipy.spatial import ConvexHull\n",
    "\n",
    "import numpy as np\n",
    "import pickle as pkl\n",
    "\n",
    "import pyvista as pv\n",
    "from ipywidgets import interact, interactive, fixed, interact_manual"
   ]
  },
  {
   "cell_type": "code",
   "execution_count": null,
   "id": "cdd579dd",
   "metadata": {},
   "outputs": [],
   "source": [
    "# meshes = pkl.load(open(\"data/cardio/LV_meshes_at_ED_35k.pkl\", \"rb\"))\n",
    "# convhull = {}\n",
    "# for i, (id, mesh) in enumerate(meshes.items()):\n",
    "#     if i % 1000 == 0:\n",
    "#         print(i)\n",
    "#     convhull[id] = ConvexHull(mesh)"
   ]
  },
  {
   "cell_type": "code",
   "execution_count": null,
   "id": "6b2ba48b",
   "metadata": {},
   "outputs": [],
   "source": [
    "def sphericity_index(convex_hull):\n",
    "    return((36 * math.pi * convex_hull.volume**2)**(1./3) / convex_hull.area)"
   ]
  },
  {
   "cell_type": "code",
   "execution_count": null,
   "id": "8e968d9c",
   "metadata": {},
   "outputs": [],
   "source": [
    "sph_df = pd.read_csv(\"data/cardio/sphericity.csv\")"
   ]
  },
  {
   "cell_type": "code",
   "execution_count": null,
   "id": "6152b232",
   "metadata": {},
   "outputs": [],
   "source": [
    "df.index = df.index.astype(str)\n",
    "sph_df = sph_df.set_index(\"id\")\n",
    "sph_df.index = sph_df.index.astype(str)"
   ]
  },
  {
   "cell_type": "code",
   "execution_count": null,
   "id": "b0d4f6d2",
   "metadata": {},
   "outputs": [],
   "source": [
    "cardiac_indices_df = df.merge(sph_df, left_index=True, right_index=True)"
   ]
  },
  {
   "cell_type": "code",
   "execution_count": null,
   "id": "6350f2be",
   "metadata": {},
   "outputs": [],
   "source": [
    "cardiac_indices_df"
   ]
  },
  {
   "cell_type": "code",
   "execution_count": null,
   "id": "d9ab13ac",
   "metadata": {},
   "outputs": [],
   "source": [
    "def experiment_selection_widget():\n",
    "    options = [exp.name for exp in mlflow.list_experiments()]\n",
    "\n",
    "    experiment_w = widgets.Select(\n",
    "      options=options,\n",
    "      value=\"Cardiac - ED\"\n",
    "    )\n",
    "    \n",
    "    return experiment_w\n",
    "\n",
    "exp_w = experiment_selection_widget()\n",
    "\n",
    "@interact\n",
    "def get_runs(exp_name=exp_w):  \n",
    "  try:\n",
    "    exp_id = mlflow.get_experiment_by_name(exp_name).experiment_id\n",
    "    runs_df = get_runs_df(exp_name=exp_name, only_finished=True)\n",
    "    metrics, params = get_metrics_cols(runs_df), get_params_cols(runs_df)  \n",
    "    # display(runs_df.loc[:, [*metrics, *params]].drop(\"params.platform\", axis=1).head(10))\n",
    "    return runs_df\n",
    "  except:\n",
    "    pass"
   ]
  },
  {
   "cell_type": "code",
   "execution_count": null,
   "id": "ce781ef3",
   "metadata": {},
   "outputs": [],
   "source": [
    "runs_df = get_runs_df(exp_name=exp_w.value, only_finished=True)"
   ]
  },
  {
   "cell_type": "code",
   "execution_count": null,
   "id": "2bb4749c",
   "metadata": {},
   "outputs": [],
   "source": [
    "z_paths = runs_df.reset_index().apply(\n",
    "    lambda row: ((row.experiment_id, row.run_id), row.artifact_uri.replace(\"file://\", \"\") + f'''/output/z_adj_{row.experiment_id}_{row.run_id}.tsv'''), axis=1\n",
    ")\n",
    "z_paths = dict(z_paths.values.tolist())"
   ]
  },
  {
   "cell_type": "code",
   "execution_count": null,
   "id": "9f633b6d",
   "metadata": {},
   "outputs": [],
   "source": [
    "z_dfs = {}\n",
    "\n",
    "for run_id, z_path in z_paths.items():\n",
    "    try:\n",
    "        z_dfs[run_id] = pd.read_csv(z_path, sep=\"\\t\").set_index(\"ID\")\n",
    "    except FileNotFoundError:\n",
    "        pass"
   ]
  },
  {
   "cell_type": "code",
   "execution_count": null,
   "id": "4c3fe750",
   "metadata": {},
   "outputs": [],
   "source": [
    "def change_col_names(exper_id, run_id, kk):\n",
    "    kk.columns = [f\"{exper_id}_{run_id[:5]}_{col}\" for col in kk.columns]\n",
    "    return kk"
   ]
  },
  {
   "cell_type": "code",
   "execution_count": null,
   "id": "9fbf2d31",
   "metadata": {},
   "outputs": [],
   "source": [
    "z_dfs_renamed = [change_col_names(expid, runid, z_df) for (expid, runid), z_df in z_dfs.items()]"
   ]
  },
  {
   "cell_type": "code",
   "execution_count": null,
   "id": "29523c5c",
   "metadata": {},
   "outputs": [],
   "source": [
    "z_all_df = pd.concat(z_dfs_renamed, axis=1)"
   ]
  },
  {
   "cell_type": "code",
   "execution_count": null,
   "id": "35e0215d",
   "metadata": {},
   "outputs": [],
   "source": [
    "z_corr_df = z_all_df.corr().abs()"
   ]
  },
  {
   "cell_type": "markdown",
   "id": "596d9929",
   "metadata": {},
   "source": [
    "# Correlation between latent variables"
   ]
  },
  {
   "cell_type": "code",
   "execution_count": null,
   "id": "b1c02509",
   "metadata": {},
   "outputs": [],
   "source": [
    "import numpy as np\n",
    "import matplotlib.pyplot as plt\n",
    "import seaborn as sns"
   ]
  },
  {
   "cell_type": "code",
   "execution_count": null,
   "id": "07486dd1",
   "metadata": {},
   "outputs": [],
   "source": [
    "corr_lst = np.triu(z_corr_df.to_numpy()).flatten()"
   ]
  },
  {
   "cell_type": "code",
   "execution_count": null,
   "id": "9339ada5",
   "metadata": {},
   "outputs": [],
   "source": [
    "plt.hist(corr_lst[~(corr_lst == 1.) & ~(corr_lst == 0.)], bins=20);"
   ]
  },
  {
   "cell_type": "code",
   "execution_count": null,
   "id": "9aa98813",
   "metadata": {},
   "outputs": [],
   "source": [
    "z_all_df = z_all_df.set_index(z_all_df.index.astype(str))"
   ]
  },
  {
   "cell_type": "code",
   "execution_count": null,
   "id": "67086374",
   "metadata": {},
   "outputs": [],
   "source": [
    "z_all_df.index"
   ]
  },
  {
   "cell_type": "code",
   "execution_count": null,
   "id": "8f789b53",
   "metadata": {},
   "outputs": [],
   "source": [
    "common_subjects = list(set(cardiac_indices_df.drop_duplicates().index).intersection(set(z_all_df.drop_duplicates().index)))"
   ]
  },
  {
   "cell_type": "code",
   "execution_count": null,
   "id": "20939568",
   "metadata": {},
   "outputs": [],
   "source": [
    "len(common_subjects)"
   ]
  },
  {
   "cell_type": "code",
   "execution_count": null,
   "id": "a3e225a2",
   "metadata": {},
   "outputs": [],
   "source": [
    "ccii = cardiac_indices_df.loc[sorted(common_subjects)].drop_duplicates()"
   ]
  },
  {
   "cell_type": "code",
   "execution_count": null,
   "id": "a637cc79",
   "metadata": {},
   "outputs": [],
   "source": [
    "zz.shape"
   ]
  },
  {
   "cell_type": "code",
   "execution_count": null,
   "id": "702f4d81",
   "metadata": {},
   "outputs": [],
   "source": [
    "zz[\"1_e6490_z000\"].corr(ccii.LVSph)"
   ]
  },
  {
   "cell_type": "code",
   "execution_count": null,
   "id": "0df055ab",
   "metadata": {},
   "outputs": [],
   "source": [
    "ccii.corrwith(zz[0], axis=1)"
   ]
  },
  {
   "cell_type": "code",
   "execution_count": null,
   "id": "2560a918",
   "metadata": {},
   "outputs": [],
   "source": [
    "zz = z_all_df.loc[sorted(common_subjects)].drop_duplicates()"
   ]
  },
  {
   "cell_type": "code",
   "execution_count": null,
   "id": "e7127b32",
   "metadata": {},
   "outputs": [],
   "source": [
    "ccii.isna().count()"
   ]
  },
  {
   "cell_type": "code",
   "execution_count": null,
   "id": "da0e4317",
   "metadata": {},
   "outputs": [],
   "source": [
    "ccii.to_csv(\"lvedv_lvm_rvedv_lvsph.csv\", index=True, index_label=\"ID\")"
   ]
  },
  {
   "cell_type": "code",
   "execution_count": null,
   "id": "c54f90e6",
   "metadata": {},
   "outputs": [],
   "source": [
    "corr_matrix = pd.concat([zz, ccii], axis=1).corr() #.index.str.startswith(\"LV\")"
   ]
  },
  {
   "cell_type": "code",
   "execution_count": null,
   "id": "764ae01f",
   "metadata": {},
   "outputs": [],
   "source": [
    "z_corr = zz.corr()"
   ]
  },
  {
   "cell_type": "code",
   "execution_count": null,
   "id": "13bb6db9",
   "metadata": {},
   "outputs": [],
   "source": [
    "corr_z_vs_indices = corr_matrix[ccii.columns]"
   ]
  },
  {
   "cell_type": "code",
   "execution_count": null,
   "id": "1dea3387",
   "metadata": {},
   "outputs": [],
   "source": [
    "corr_z_vs_indices.to_csv(\"data/cardio/corr_z_vs_indices.csv\", index=True, index_label=\"phenotype\")"
   ]
  },
  {
   "cell_type": "code",
   "execution_count": null,
   "id": "f3675328",
   "metadata": {},
   "outputs": [],
   "source": [
    "len([ind for ind in cardiac_indices_df.index if ind in z_all_df.index])"
   ]
  },
  {
   "cell_type": "code",
   "execution_count": null,
   "id": "3d71d440",
   "metadata": {},
   "outputs": [],
   "source": [
    "cardiac_indices_df.index"
   ]
  },
  {
   "cell_type": "code",
   "execution_count": null,
   "id": "4d5bcc67",
   "metadata": {},
   "outputs": [],
   "source": [
    "pd.read_csv(\"data/cardio/corr_z_vs_indices.csv\")"
   ]
  }
 ],
 "metadata": {
  "kernelspec": {
   "display_name": "Python 3 (ipykernel)",
   "language": "python",
   "name": "python3"
  },
  "language_info": {
   "codemirror_mode": {
    "name": "ipython",
    "version": 3
   },
   "file_extension": ".py",
   "mimetype": "text/x-python",
   "name": "python",
   "nbconvert_exporter": "python",
   "pygments_lexer": "ipython3",
   "version": "3.9.12"
  }
 },
 "nbformat": 4,
 "nbformat_minor": 5
}
